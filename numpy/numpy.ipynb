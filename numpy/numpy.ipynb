{
 "nbformat": 4,
 "nbformat_minor": 0,
 "metadata": {
  "colab": {
   "provenance": []
  },
  "kernelspec": {
   "name": "python3",
   "display_name": "Python 3"
  },
  "language_info": {
   "name": "python"
  }
 },
 "cells": [
  {
   "cell_type": "code",
   "metadata": {
    "id": "uvaEyaBPvgjg",
    "jupyter": {
     "is_executing": true
    }
   },
   "source": [
    "#numpy kütüphanesinin en teml elemanı array(dizi)'dir.\n",
    "#arrayer listelerden(py kullanıyor) 50 kat daha hızlıdır.\n",
    "#liste ya da tuple benzeri nesneleri array'e dönüştürebiliriz.      np.array([1,2,3])\n",
    "#built-in hazır fonksiyonlar yardımıyla da array oluşturabiliriz    np.arange(),np.linspace() ...\n",
    "#rastgele data    np.random()\n",
    "#.rshape() arrayin şeklini değiştiriyor(eleman sayısı sabit !)\n",
    "#.nditer() birden fazla dizinin elemanlarını ziyaret etme esnekliği sağlar"
   ],
   "outputs": [],
   "execution_count": null
  },
  {
   "cell_type": "code",
   "source": [
    "!pip install numpy"
   ],
   "metadata": {
    "colab": {
     "base_uri": "https://localhost:8080/"
    },
    "id": "v9ZoiSxywxEe",
    "outputId": "97564d98-8d39-4c48-f540-769ea410092b",
    "jupyter": {
     "is_executing": true
    }
   },
   "outputs": [],
   "execution_count": null
  },
  {
   "cell_type": "code",
   "source": [
    "import numpy as np"
   ],
   "metadata": {
    "id": "f3xAOXMrw6U1"
   },
   "execution_count": null,
   "outputs": []
  },
  {
   "cell_type": "code",
   "source": [
    "arr0d=np.array(53)   #0 boyutlu\n",
    "arr0d"
   ],
   "metadata": {
    "colab": {
     "base_uri": "https://localhost:8080/"
    },
    "id": "wGj7lik6xwvt",
    "outputId": "b72d423f-223b-4f74-aa6c-0a8ae62b5950"
   },
   "execution_count": null,
   "outputs": [
    {
     "output_type": "execute_result",
     "data": {
      "text/plain": [
       "array(53)"
      ]
     },
     "metadata": {},
     "execution_count": 5
    }
   ]
  },
  {
   "cell_type": "code",
   "source": [
    "arr2d=np.array([[1,2,3],[4,5,6]])  #2 boyutlu\n",
    "arr2d"
   ],
   "metadata": {
    "colab": {
     "base_uri": "https://localhost:8080/"
    },
    "id": "wDHpGMzgDBcb",
    "outputId": "bd4c419b-c05c-4477-e100-194cd9d988c7"
   },
   "execution_count": null,
   "outputs": [
    {
     "output_type": "execute_result",
     "data": {
      "text/plain": [
       "array([[1, 2, 3],\n",
       "       [4, 5, 6]])"
      ]
     },
     "metadata": {},
     "execution_count": 6
    }
   ]
  },
  {
   "cell_type": "code",
   "source": [
    "np.arange(12,39,3)  #(12,39) aralığında 3 artan"
   ],
   "metadata": {
    "colab": {
     "base_uri": "https://localhost:8080/"
    },
    "id": "4joYxzuyDbiN",
    "outputId": "c74fae96-644c-4e79-b695-776bd7d0a8d6"
   },
   "execution_count": null,
   "outputs": [
    {
     "output_type": "execute_result",
     "data": {
      "text/plain": [
       "array([12, 15, 18, 21, 24, 27, 30, 33, 36])"
      ]
     },
     "metadata": {},
     "execution_count": 7
    }
   ]
  },
  {
   "cell_type": "code",
   "source": [
    "np.linspace(10,20,5)  #(10,20] aralığında eşit aralıklarla artan 5 sayı"
   ],
   "metadata": {
    "colab": {
     "base_uri": "https://localhost:8080/"
    },
    "id": "GYLBh7JlI-s7",
    "outputId": "92436198-e4d0-4cf7-fbda-e5d670a82778"
   },
   "execution_count": null,
   "outputs": [
    {
     "output_type": "execute_result",
     "data": {
      "text/plain": [
       "array([10. , 12.5, 15. , 17.5, 20. ])"
      ]
     },
     "metadata": {},
     "execution_count": 8
    }
   ]
  },
  {
   "cell_type": "code",
   "source": [
    "np.logspace(1,3,15)   #(1,3] aralığında 10^1 ile 10^3 arasında logaritmik artan 15 sayı"
   ],
   "metadata": {
    "colab": {
     "base_uri": "https://localhost:8080/"
    },
    "id": "yhqLg8tFI-q9",
    "outputId": "f6f16d46-268d-4f08-cdd2-12e1b05e9480"
   },
   "execution_count": null,
   "outputs": [
    {
     "output_type": "execute_result",
     "data": {
      "text/plain": [
       "array([  10.        ,   13.89495494,   19.30697729,   26.82695795,\n",
       "         37.2759372 ,   51.79474679,   71.9685673 ,  100.        ,\n",
       "        138.94954944,  193.06977289,  268.26957953,  372.75937203,\n",
       "        517.94746792,  719.685673  , 1000.        ])"
      ]
     },
     "metadata": {},
     "execution_count": 9
    }
   ]
  },
  {
   "cell_type": "code",
   "source": [
    "np.zeros(5)"
   ],
   "metadata": {
    "colab": {
     "base_uri": "https://localhost:8080/"
    },
    "id": "uawuX5qTI-nn",
    "outputId": "1d866393-e6fc-41fd-e7f3-330d00578413"
   },
   "execution_count": null,
   "outputs": [
    {
     "output_type": "execute_result",
     "data": {
      "text/plain": [
       "array([0., 0., 0., 0., 0.])"
      ]
     },
     "metadata": {},
     "execution_count": 10
    }
   ]
  },
  {
   "cell_type": "code",
   "source": [
    "np.zeros((2,3),dtype=int)  #2 satır 3 sütunluk 0 matrisi(int tipinde)"
   ],
   "metadata": {
    "colab": {
     "base_uri": "https://localhost:8080/"
    },
    "id": "7yfO9_Q1I-jj",
    "outputId": "d551f9fc-f125-465c-a257-32f6917ee485"
   },
   "execution_count": null,
   "outputs": [
    {
     "output_type": "execute_result",
     "data": {
      "text/plain": [
       "array([[0, 0, 0],\n",
       "       [0, 0, 0]])"
      ]
     },
     "metadata": {},
     "execution_count": 11
    }
   ]
  },
  {
   "cell_type": "code",
   "source": [
    "np.ones((3,5))"
   ],
   "metadata": {
    "colab": {
     "base_uri": "https://localhost:8080/"
    },
    "id": "tsTIEFHnI-gt",
    "outputId": "8b851a4f-b0c9-42a9-d7ce-fd936765e083"
   },
   "execution_count": null,
   "outputs": [
    {
     "output_type": "execute_result",
     "data": {
      "text/plain": [
       "array([[1., 1., 1., 1., 1.],\n",
       "       [1., 1., 1., 1., 1.],\n",
       "       [1., 1., 1., 1., 1.]])"
      ]
     },
     "metadata": {},
     "execution_count": 12
    }
   ]
  },
  {
   "cell_type": "code",
   "source": [
    "np.eye(5)  #5x5 birim matris oluşturur(heryer 0, diagonal(köşegen) 1)"
   ],
   "metadata": {
    "colab": {
     "base_uri": "https://localhost:8080/"
    },
    "id": "U9Pbyo37I-eF",
    "outputId": "2a5fc3c1-56a4-4f94-d242-2c126cb5c10c"
   },
   "execution_count": null,
   "outputs": [
    {
     "output_type": "execute_result",
     "data": {
      "text/plain": [
       "array([[1., 0., 0., 0., 0.],\n",
       "       [0., 1., 0., 0., 0.],\n",
       "       [0., 0., 1., 0., 0.],\n",
       "       [0., 0., 0., 1., 0.],\n",
       "       [0., 0., 0., 0., 1.]])"
      ]
     },
     "metadata": {},
     "execution_count": 13
    }
   ]
  },
  {
   "cell_type": "code",
   "source": [
    "np.random.rand(5)  #5 tane [0,1] aralığında random 5 sayı"
   ],
   "metadata": {
    "colab": {
     "base_uri": "https://localhost:8080/"
    },
    "id": "LdMQnxmzI-a0",
    "outputId": "f14a86c1-9918-4606-c222-e2eecc633a82"
   },
   "execution_count": null,
   "outputs": [
    {
     "output_type": "execute_result",
     "data": {
      "text/plain": [
       "array([0.32980937, 0.23218558, 0.22619364, 0.82436518, 0.87183643])"
      ]
     },
     "metadata": {},
     "execution_count": 14
    }
   ]
  },
  {
   "cell_type": "code",
   "source": [
    "np.random.rand(3,4)"
   ],
   "metadata": {
    "colab": {
     "base_uri": "https://localhost:8080/"
    },
    "id": "MG7X2mnHI-W-",
    "outputId": "df821386-988f-420e-a20a-dfb233553869"
   },
   "execution_count": null,
   "outputs": [
    {
     "output_type": "execute_result",
     "data": {
      "text/plain": [
       "array([[0.47909013, 0.83771725, 0.30363029, 0.27194258],\n",
       "       [0.66797963, 0.33669409, 0.4107817 , 0.0073636 ],\n",
       "       [0.64022827, 0.4615373 , 0.82429757, 0.67274716]])"
      ]
     },
     "metadata": {},
     "execution_count": 15
    }
   ]
  },
  {
   "cell_type": "code",
   "source": [
    "np.random.randint(15,50,15)"
   ],
   "metadata": {
    "colab": {
     "base_uri": "https://localhost:8080/"
    },
    "id": "OMtOLORbI-Op",
    "outputId": "52def2fa-6ee1-4ef2-a94f-4a14be874e25"
   },
   "execution_count": null,
   "outputs": [
    {
     "output_type": "execute_result",
     "data": {
      "text/plain": [
       "array([41, 39, 48, 23, 28, 35, 29, 48, 19, 19, 44, 18, 41, 29, 18])"
      ]
     },
     "metadata": {},
     "execution_count": 16
    }
   ]
  },
  {
   "cell_type": "code",
   "source": [
    "np.random.randint(1,100,(3,5))"
   ],
   "metadata": {
    "colab": {
     "base_uri": "https://localhost:8080/"
    },
    "id": "V_AS8PzcI94c",
    "outputId": "06da575f-521a-4279-ed86-1b0708fb8d92"
   },
   "execution_count": null,
   "outputs": [
    {
     "output_type": "execute_result",
     "data": {
      "text/plain": [
       "array([[67, 46, 66, 22, 68],\n",
       "       [15, 58, 55, 51, 51],\n",
       "       [53, 86, 26, 59, 94]])"
      ]
     },
     "metadata": {},
     "execution_count": 17
    }
   ]
  },
  {
   "cell_type": "code",
   "source": [
    "yasin=np.random.randint(0,50,(4,6))\n",
    "yasin"
   ],
   "metadata": {
    "colab": {
     "base_uri": "https://localhost:8080/"
    },
    "id": "Z-qMTWMSRBHE",
    "outputId": "38277a8e-302f-42af-aec2-13d2042322bc"
   },
   "execution_count": null,
   "outputs": [
    {
     "output_type": "execute_result",
     "data": {
      "text/plain": [
       "array([[25, 38, 32, 40, 10, 14],\n",
       "       [ 4, 33, 12, 28, 14, 21],\n",
       "       [40, 33, 40, 42, 42, 21],\n",
       "       [14, 30, 36, 30, 42,  4]])"
      ]
     },
     "metadata": {},
     "execution_count": 18
    }
   ]
  },
  {
   "cell_type": "code",
   "source": [
    "yasin.ndim    #ndim kaç boyutlu olduğunu yazar"
   ],
   "metadata": {
    "colab": {
     "base_uri": "https://localhost:8080/"
    },
    "id": "B4iJkmKRRRto",
    "outputId": "6954125d-f4e3-4031-c266-2f5f1f013d7d"
   },
   "execution_count": null,
   "outputs": [
    {
     "output_type": "execute_result",
     "data": {
      "text/plain": [
       "2"
      ]
     },
     "metadata": {},
     "execution_count": 19
    }
   ]
  },
  {
   "cell_type": "code",
   "source": [
    "yasin.shape   #shape matrisin kaça kaçlık olduğunu yazar"
   ],
   "metadata": {
    "colab": {
     "base_uri": "https://localhost:8080/"
    },
    "id": "RX6OXFdDRpZc",
    "outputId": "6fc14388-a0d8-4dac-c48a-0541c49bf7d4"
   },
   "execution_count": null,
   "outputs": [
    {
     "output_type": "execute_result",
     "data": {
      "text/plain": [
       "(4, 6)"
      ]
     },
     "metadata": {},
     "execution_count": 20
    }
   ]
  },
  {
   "cell_type": "code",
   "source": [
    "x=np.arange(53,62)\n",
    "x[4]"
   ],
   "metadata": {
    "colab": {
     "base_uri": "https://localhost:8080/"
    },
    "id": "7DUUGUKIR14b",
    "outputId": "e7e9aa8a-da3f-44cb-b5ae-08077ee257bb"
   },
   "execution_count": null,
   "outputs": [
    {
     "output_type": "execute_result",
     "data": {
      "text/plain": [
       "np.int64(57)"
      ]
     },
     "metadata": {},
     "execution_count": 21
    }
   ]
  },
  {
   "cell_type": "code",
   "source": [
    "arr=np.random.randint(1,100,10)"
   ],
   "metadata": {
    "id": "BKlzIVthTGpl"
   },
   "execution_count": null,
   "outputs": []
  },
  {
   "cell_type": "code",
   "source": [
    "arr.max()"
   ],
   "metadata": {
    "colab": {
     "base_uri": "https://localhost:8080/"
    },
    "id": "x5qr9Eb2Upn2",
    "outputId": "08e3b4e2-4802-4d7f-c6fd-eb972d13d411"
   },
   "execution_count": null,
   "outputs": [
    {
     "output_type": "execute_result",
     "data": {
      "text/plain": [
       "np.int64(97)"
      ]
     },
     "metadata": {},
     "execution_count": 23
    }
   ]
  },
  {
   "cell_type": "code",
   "source": [
    "arr.argmax()   #max'ın kaçıncı indexte bulunduğu"
   ],
   "metadata": {
    "colab": {
     "base_uri": "https://localhost:8080/"
    },
    "id": "NKJJF-FKUyjV",
    "outputId": "b5f1003d-7d5a-4a99-aee5-8b1ccf2d406d"
   },
   "execution_count": null,
   "outputs": [
    {
     "output_type": "execute_result",
     "data": {
      "text/plain": [
       "np.int64(6)"
      ]
     },
     "metadata": {},
     "execution_count": 24
    }
   ]
  },
  {
   "cell_type": "code",
   "source": [
    "arr.dtype      #type'ının hangi tür olduğunu yazar"
   ],
   "metadata": {
    "id": "oQvDFSCPU0i1",
    "colab": {
     "base_uri": "https://localhost:8080/"
    },
    "outputId": "c4d643e7-781f-479f-b45f-0c9e721f8dc9"
   },
   "execution_count": null,
   "outputs": [
    {
     "output_type": "execute_result",
     "data": {
      "text/plain": [
       "dtype('int64')"
      ]
     },
     "metadata": {},
     "execution_count": 25
    }
   ]
  },
  {
   "cell_type": "code",
   "source": [
    "arr=arr.astype(float)  # .astype metodu ile arraylerin dtype'ını değiştirebiliriz\n",
    "arr"
   ],
   "metadata": {
    "colab": {
     "base_uri": "https://localhost:8080/"
    },
    "id": "4bt1l1Atr2X6",
    "outputId": "0db14486-745a-415e-dafe-8c679d47b4ea"
   },
   "execution_count": null,
   "outputs": [
    {
     "output_type": "execute_result",
     "data": {
      "text/plain": [
       "array([11., 45., 54., 81., 69., 56., 97., 31., 25., 86.])"
      ]
     },
     "metadata": {},
     "execution_count": 26
    }
   ]
  },
  {
   "cell_type": "code",
   "source": [
    "arr.dtype"
   ],
   "metadata": {
    "colab": {
     "base_uri": "https://localhost:8080/"
    },
    "id": "V5YLCLUJtIfS",
    "outputId": "64f73ee6-411b-4b11-f6ae-7888404ff6c7"
   },
   "execution_count": null,
   "outputs": [
    {
     "output_type": "execute_result",
     "data": {
      "text/plain": [
       "dtype('float64')"
      ]
     },
     "metadata": {},
     "execution_count": 27
    }
   ]
  },
  {
   "cell_type": "markdown",
   "source": [
    "--------------\n",
    "**ders2**"
   ],
   "metadata": {
    "id": "fvpaBMuRQi-A"
   }
  },
  {
   "cell_type": "code",
   "source": [
    "#.rshape() methodu kullanılırken hesaplamak istemediğimiz boyut yerine -1 koyarız bu otomatik bir şekilde tamamlar !!!\n",
    "arr3d=np.arange(120).reshape(5,3,-1)\n",
    "arr3d"
   ],
   "metadata": {
    "colab": {
     "base_uri": "https://localhost:8080/"
    },
    "id": "Yx2h0RXBQlX4",
    "outputId": "e1313e24-0aad-48a1-b0bd-571b99cc27b0"
   },
   "execution_count": null,
   "outputs": [
    {
     "output_type": "execute_result",
     "data": {
      "text/plain": [
       "array([[[  0,   1,   2,   3,   4,   5,   6,   7],\n",
       "        [  8,   9,  10,  11,  12,  13,  14,  15],\n",
       "        [ 16,  17,  18,  19,  20,  21,  22,  23]],\n",
       "\n",
       "       [[ 24,  25,  26,  27,  28,  29,  30,  31],\n",
       "        [ 32,  33,  34,  35,  36,  37,  38,  39],\n",
       "        [ 40,  41,  42,  43,  44,  45,  46,  47]],\n",
       "\n",
       "       [[ 48,  49,  50,  51,  52,  53,  54,  55],\n",
       "        [ 56,  57,  58,  59,  60,  61,  62,  63],\n",
       "        [ 64,  65,  66,  67,  68,  69,  70,  71]],\n",
       "\n",
       "       [[ 72,  73,  74,  75,  76,  77,  78,  79],\n",
       "        [ 80,  81,  82,  83,  84,  85,  86,  87],\n",
       "        [ 88,  89,  90,  91,  92,  93,  94,  95]],\n",
       "\n",
       "       [[ 96,  97,  98,  99, 100, 101, 102, 103],\n",
       "        [104, 105, 106, 107, 108, 109, 110, 111],\n",
       "        [112, 113, 114, 115, 116, 117, 118, 119]]])"
      ]
     },
     "metadata": {},
     "execution_count": 28
    }
   ]
  },
  {
   "cell_type": "code",
   "source": [
    "arr1=np.array([1,4,6,8])\n",
    "arr2=np.array([3,5,8,9])\n",
    "arr1.__add__(arr2)        #magic func.(buradaki add toplama işlemini yapar)"
   ],
   "metadata": {
    "id": "P6xoOrbVTd9L",
    "colab": {
     "base_uri": "https://localhost:8080/"
    },
    "outputId": "1e4159a1-20a1-46e7-8e74-81f5d1b48ba2"
   },
   "execution_count": null,
   "outputs": [
    {
     "output_type": "execute_result",
     "data": {
      "text/plain": [
       "array([ 4,  9, 14, 17])"
      ]
     },
     "metadata": {},
     "execution_count": 29
    }
   ]
  },
  {
   "cell_type": "markdown",
   "source": [
    "--------------------------"
   ],
   "metadata": {
    "id": "MbCpOeW-D6Pn"
   }
  },
  {
   "cell_type": "code",
   "source": [
    "arr=np.random.randint(0,10,10)"
   ],
   "metadata": {
    "id": "xa9rR9vqxnGm"
   },
   "execution_count": null,
   "outputs": []
  },
  {
   "cell_type": "code",
   "source": [
    "arr.sum()"
   ],
   "metadata": {
    "colab": {
     "base_uri": "https://localhost:8080/"
    },
    "id": "6nD1etatDqBV",
    "outputId": "ef2decea-c932-4bb5-8d51-ddc6f01f3126"
   },
   "execution_count": null,
   "outputs": [
    {
     "output_type": "execute_result",
     "data": {
      "text/plain": [
       "np.int64(53)"
      ]
     },
     "metadata": {},
     "execution_count": 32
    }
   ]
  },
  {
   "cell_type": "code",
   "source": [
    "arr.var()"
   ],
   "metadata": {
    "colab": {
     "base_uri": "https://localhost:8080/"
    },
    "id": "l493M20fDzWP",
    "outputId": "14eb5c1f-2400-49be-85dc-668d77dcff0e"
   },
   "execution_count": null,
   "outputs": [
    {
     "output_type": "execute_result",
     "data": {
      "text/plain": [
       "np.float64(11.809999999999999)"
      ]
     },
     "metadata": {},
     "execution_count": 33
    }
   ]
  },
  {
   "cell_type": "code",
   "source": [
    "arr.std()"
   ],
   "metadata": {
    "colab": {
     "base_uri": "https://localhost:8080/"
    },
    "id": "iKhqtVVXD064",
    "outputId": "bc1e33e2-0471-4bc4-b5aa-6ba1b611b8c1"
   },
   "execution_count": null,
   "outputs": [
    {
     "output_type": "execute_result",
     "data": {
      "text/plain": [
       "np.float64(3.4365680554879163)"
      ]
     },
     "metadata": {},
     "execution_count": 34
    }
   ]
  },
  {
   "cell_type": "markdown",
   "source": [
    "-----------------------"
   ],
   "metadata": {
    "id": "kRft2yV1HfVz"
   }
  },
  {
   "cell_type": "markdown",
   "source": [
    "#numpy arraylerini birleştirme np.concatenate([arr1,arr2],axis=1)"
   ],
   "metadata": {
    "id": "3adz1XLDHxoP"
   }
  },
  {
   "cell_type": "code",
   "source": [
    "arr1=np.array([[1,2,3],[5,6,7]])\n",
    "arr2=np.array([[5,6,7],[8,9,10]])\n",
    "np.concatenate([arr1,arr2],axis=1)   #axis=0 yanyana(satır), axis=1 altalta(sütun)"
   ],
   "metadata": {
    "colab": {
     "base_uri": "https://localhost:8080/"
    },
    "id": "fKtbPJuGHlcz",
    "outputId": "1f493d90-8713-40c6-f687-ba103f245914"
   },
   "execution_count": null,
   "outputs": [
    {
     "output_type": "execute_result",
     "data": {
      "text/plain": [
       "array([[ 1,  2,  3,  5,  6,  7],\n",
       "       [ 5,  6,  7,  8,  9, 10]])"
      ]
     },
     "metadata": {},
     "execution_count": 48
    }
   ]
  },
  {
   "cell_type": "code",
   "source": [
    "#np.hstack()     \tYatay birleştirir\tnp.concatenate(..., axis=1)\n",
    "#np.vstack()\t    Dikey birleştirir\tnp.concatenate(..., axis=0)\n",
    "#np.concatenate()\tDaha esnek, axis parametresi gerekir"
   ],
   "metadata": {
    "id": "sFPbaDxJMbxJ"
   },
   "execution_count": null,
   "outputs": []
  },
  {
   "cell_type": "markdown",
   "source": [
    "-----------------"
   ],
   "metadata": {
    "id": "f8v_3d4ZJDRs"
   }
  },
  {
   "cell_type": "code",
   "source": [
    "# Aradığımız değerlerin indexlerini döndürme np.where()\n",
    "arr=np.array([1,2,5,6,7,7,9,2,2,2])\n",
    "np.where(arr==2)"
   ],
   "metadata": {
    "colab": {
     "base_uri": "https://localhost:8080/"
    },
    "id": "TrIjAa8-H_Vi",
    "outputId": "c3a99224-cf95-4dbe-db63-d6721eba772b"
   },
   "execution_count": null,
   "outputs": [
    {
     "output_type": "execute_result",
     "data": {
      "text/plain": [
       "(array([1, 7, 8, 9]),)"
      ]
     },
     "metadata": {},
     "execution_count": 55
    }
   ]
  },
  {
   "cell_type": "code",
   "source": [
    "#choice()   arrayden random 1 sayı çeker\n",
    "arr=np.array([1,2,5,6,7,7,9,2,2,2])\n",
    "np.random.choice(arr)"
   ],
   "metadata": {
    "colab": {
     "base_uri": "https://localhost:8080/"
    },
    "id": "eSv5Ds-rM1z0",
    "outputId": "c64256e7-fb93-4713-fb00-0461abe690d7"
   },
   "execution_count": null,
   "outputs": [
    {
     "output_type": "execute_result",
     "data": {
      "text/plain": [
       "np.int64(2)"
      ]
     },
     "metadata": {},
     "execution_count": 58
    }
   ]
  },
  {
   "cell_type": "code",
   "source": [
    "#Yasin"
   ],
   "metadata": {
    "id": "jJoV55a8QrkT"
   },
   "execution_count": 1,
   "outputs": []
  }
 ]
}
